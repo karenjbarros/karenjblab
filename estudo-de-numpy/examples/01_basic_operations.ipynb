{
 "cells": [
  {
   "cell_type": "markdown",
   "id": "5f2ddb66-2132-4eb3-b6e7-d420f4e9b064",
   "metadata": {},
   "source": [
    "# Imports"
   ]
  },
  {
   "cell_type": "code",
   "execution_count": 1,
   "id": "2f15d0e0-5c1d-4f54-970d-e35dfeb0c21e",
   "metadata": {},
   "outputs": [],
   "source": [
    "import numpy as np"
   ]
  },
  {
   "cell_type": "markdown",
   "id": "cc215a77-c60c-4e10-b1c0-79324979b12c",
   "metadata": {},
   "source": [
    "# Criando um array"
   ]
  },
  {
   "cell_type": "code",
   "execution_count": 2,
   "id": "f25e86fd-c390-4679-97c2-fa8c12072913",
   "metadata": {},
   "outputs": [],
   "source": [
    "arr = np.array([1, 2, 3, 4, 5])"
   ]
  },
  {
   "cell_type": "markdown",
   "id": "1fd90587-2568-4c92-87f8-99069a72d6fb",
   "metadata": {},
   "source": [
    "# Operações básicas"
   ]
  },
  {
   "cell_type": "markdown",
   "id": "cc8d2dc2-4cb3-4ce0-babc-a92ee2b97498",
   "metadata": {},
   "source": [
    "## Array"
   ]
  },
  {
   "cell_type": "code",
   "execution_count": 3,
   "id": "87b4f08a-8cdf-4147-9285-3a2640d97733",
   "metadata": {},
   "outputs": [
    {
     "name": "stdout",
     "output_type": "stream",
     "text": [
      "Array: [1 2 3 4 5]\n"
     ]
    }
   ],
   "source": [
    "print(\"Array:\", arr)"
   ]
  },
  {
   "cell_type": "markdown",
   "id": "fa5445bd-eca7-4a4a-9867-5db4f4f0fddf",
   "metadata": {},
   "source": [
    "## Soma"
   ]
  },
  {
   "cell_type": "code",
   "execution_count": 4,
   "id": "961408a5-b3e3-4c57-a83a-b75363b6a72a",
   "metadata": {},
   "outputs": [
    {
     "name": "stdout",
     "output_type": "stream",
     "text": [
      "Soma: [ 6  7  8  9 10]\n"
     ]
    }
   ],
   "source": [
    "print(\"Soma:\", arr + 5)"
   ]
  },
  {
   "cell_type": "markdown",
   "id": "c505a554-2173-4fa8-a8d6-18fa52ae7a82",
   "metadata": {},
   "source": [
    "## Multiplicação"
   ]
  },
  {
   "cell_type": "code",
   "execution_count": 5,
   "id": "90cb21af-ab18-4f62-886a-1cb6a8bad1ff",
   "metadata": {},
   "outputs": [
    {
     "name": "stdout",
     "output_type": "stream",
     "text": [
      "Multiplicação: [ 2  4  6  8 10]\n"
     ]
    }
   ],
   "source": [
    "print(\"Multiplicação:\", arr * 2)"
   ]
  },
  {
   "cell_type": "markdown",
   "id": "412e0ca1-7a39-4f91-8bb7-1c19c1d6abb0",
   "metadata": {},
   "source": [
    "## Raiz quadrada"
   ]
  },
  {
   "cell_type": "code",
   "execution_count": 6,
   "id": "8de3b2a7-b406-47e1-8993-ae6b688a4a75",
   "metadata": {},
   "outputs": [
    {
     "name": "stdout",
     "output_type": "stream",
     "text": [
      "Raiz quadrada: [1.         1.41421356 1.73205081 2.         2.23606798]\n"
     ]
    }
   ],
   "source": [
    "print(\"Raiz quadrada:\", np.sqrt(arr))"
   ]
  }
 ],
 "metadata": {
  "kernelspec": {
   "display_name": "Python 3 (ipykernel)",
   "language": "python",
   "name": "python3"
  },
  "language_info": {
   "codemirror_mode": {
    "name": "ipython",
    "version": 3
   },
   "file_extension": ".py",
   "mimetype": "text/x-python",
   "name": "python",
   "nbconvert_exporter": "python",
   "pygments_lexer": "ipython3",
   "version": "3.13.2"
  }
 },
 "nbformat": 4,
 "nbformat_minor": 5
}
