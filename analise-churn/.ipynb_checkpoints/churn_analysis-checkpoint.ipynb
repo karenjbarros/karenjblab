{
 "cells": [
  {
   "cell_type": "markdown",
   "id": "2f846ca9-4de2-4e29-b24a-006463740dfa",
   "metadata": {},
   "source": [
    "# Importar Bibliotecas"
   ]
  },
  {
   "cell_type": "code",
   "execution_count": 1,
   "id": "0acb4888-c2a9-4cee-a668-858c8cfd8d24",
   "metadata": {},
   "outputs": [],
   "source": [
    "import pandas as pd\n",
    "import matplotlib.pyplot as plt\n",
    "import seaborn as sns\n",
    "from sklearn.model_selection import train_test_split\n",
    "from sklearn.preprocessing import StandardScaler\n",
    "from sklearn.preprocessing import OrdinalEncoder\n",
    "from sklearn.ensemble import RandomForestClassifier\n",
    "from sklearn.metrics import accuracy_score, classification_report, confusion_matrix\n"
   ]
  },
  {
   "cell_type": "markdown",
   "id": "564f86ad-ff7c-4fa3-9209-d36b90828850",
   "metadata": {},
   "source": [
    "# Carregar o Dataset"
   ]
  },
  {
   "cell_type": "code",
   "execution_count": 2,
   "id": "65894403-432b-4250-80b8-1719e20aa50b",
   "metadata": {},
   "outputs": [],
   "source": [
    "# import kaggle\n",
    "# kaggle.api.dataset_download_files('muhammadshahidazeem/customer-churn-dataset', path='C:/Users/karen/Documents/karenjblab/analise-churn/data', unzip=True)"
   ]
  },
  {
   "cell_type": "markdown",
   "id": "ca554561-2315-4454-bd9b-61f0083cc026",
   "metadata": {},
   "source": [
    "## Testing"
   ]
  },
  {
   "cell_type": "code",
   "execution_count": 3,
   "id": "8ae72202-32ec-4dac-877f-de9eea722974",
   "metadata": {},
   "outputs": [],
   "source": [
    "df_testing = pd.read_csv(\"C:/Users/karen/Documents/karenjblab/analise-churn/data/customer_churn_dataset-testing-master.csv\")  # Aqui a gente preenche com o nome do .csv"
   ]
  },
  {
   "cell_type": "code",
   "execution_count": 4,
   "id": "1b55dd6e-41c3-4761-8ad3-c4a56c3bec99",
   "metadata": {},
   "outputs": [
    {
     "data": {
      "text/html": [
       "<div>\n",
       "<style scoped>\n",
       "    .dataframe tbody tr th:only-of-type {\n",
       "        vertical-align: middle;\n",
       "    }\n",
       "\n",
       "    .dataframe tbody tr th {\n",
       "        vertical-align: top;\n",
       "    }\n",
       "\n",
       "    .dataframe thead th {\n",
       "        text-align: right;\n",
       "    }\n",
       "</style>\n",
       "<table border=\"1\" class=\"dataframe\">\n",
       "  <thead>\n",
       "    <tr style=\"text-align: right;\">\n",
       "      <th></th>\n",
       "      <th>CustomerID</th>\n",
       "      <th>Age</th>\n",
       "      <th>Gender</th>\n",
       "      <th>Tenure</th>\n",
       "      <th>Usage Frequency</th>\n",
       "      <th>Support Calls</th>\n",
       "      <th>Payment Delay</th>\n",
       "      <th>Subscription Type</th>\n",
       "      <th>Contract Length</th>\n",
       "      <th>Total Spend</th>\n",
       "      <th>Last Interaction</th>\n",
       "      <th>Churn</th>\n",
       "    </tr>\n",
       "  </thead>\n",
       "  <tbody>\n",
       "    <tr>\n",
       "      <th>0</th>\n",
       "      <td>1</td>\n",
       "      <td>22</td>\n",
       "      <td>Female</td>\n",
       "      <td>25</td>\n",
       "      <td>14</td>\n",
       "      <td>4</td>\n",
       "      <td>27</td>\n",
       "      <td>Basic</td>\n",
       "      <td>Monthly</td>\n",
       "      <td>598</td>\n",
       "      <td>9</td>\n",
       "      <td>1</td>\n",
       "    </tr>\n",
       "    <tr>\n",
       "      <th>1</th>\n",
       "      <td>2</td>\n",
       "      <td>41</td>\n",
       "      <td>Female</td>\n",
       "      <td>28</td>\n",
       "      <td>28</td>\n",
       "      <td>7</td>\n",
       "      <td>13</td>\n",
       "      <td>Standard</td>\n",
       "      <td>Monthly</td>\n",
       "      <td>584</td>\n",
       "      <td>20</td>\n",
       "      <td>0</td>\n",
       "    </tr>\n",
       "    <tr>\n",
       "      <th>2</th>\n",
       "      <td>3</td>\n",
       "      <td>47</td>\n",
       "      <td>Male</td>\n",
       "      <td>27</td>\n",
       "      <td>10</td>\n",
       "      <td>2</td>\n",
       "      <td>29</td>\n",
       "      <td>Premium</td>\n",
       "      <td>Annual</td>\n",
       "      <td>757</td>\n",
       "      <td>21</td>\n",
       "      <td>0</td>\n",
       "    </tr>\n",
       "    <tr>\n",
       "      <th>3</th>\n",
       "      <td>4</td>\n",
       "      <td>35</td>\n",
       "      <td>Male</td>\n",
       "      <td>9</td>\n",
       "      <td>12</td>\n",
       "      <td>5</td>\n",
       "      <td>17</td>\n",
       "      <td>Premium</td>\n",
       "      <td>Quarterly</td>\n",
       "      <td>232</td>\n",
       "      <td>18</td>\n",
       "      <td>0</td>\n",
       "    </tr>\n",
       "    <tr>\n",
       "      <th>4</th>\n",
       "      <td>5</td>\n",
       "      <td>53</td>\n",
       "      <td>Female</td>\n",
       "      <td>58</td>\n",
       "      <td>24</td>\n",
       "      <td>9</td>\n",
       "      <td>2</td>\n",
       "      <td>Standard</td>\n",
       "      <td>Annual</td>\n",
       "      <td>533</td>\n",
       "      <td>18</td>\n",
       "      <td>0</td>\n",
       "    </tr>\n",
       "  </tbody>\n",
       "</table>\n",
       "</div>"
      ],
      "text/plain": [
       "   CustomerID  Age  Gender  Tenure  Usage Frequency  Support Calls  \\\n",
       "0           1   22  Female      25               14              4   \n",
       "1           2   41  Female      28               28              7   \n",
       "2           3   47    Male      27               10              2   \n",
       "3           4   35    Male       9               12              5   \n",
       "4           5   53  Female      58               24              9   \n",
       "\n",
       "   Payment Delay Subscription Type Contract Length  Total Spend  \\\n",
       "0             27             Basic         Monthly          598   \n",
       "1             13          Standard         Monthly          584   \n",
       "2             29           Premium          Annual          757   \n",
       "3             17           Premium       Quarterly          232   \n",
       "4              2          Standard          Annual          533   \n",
       "\n",
       "   Last Interaction  Churn  \n",
       "0                 9      1  \n",
       "1                20      0  \n",
       "2                21      0  \n",
       "3                18      0  \n",
       "4                18      0  "
      ]
     },
     "execution_count": 4,
     "metadata": {},
     "output_type": "execute_result"
    }
   ],
   "source": [
    "df_testing.head()  # Exibe as primeiras 5 linhas"
   ]
  },
  {
   "cell_type": "markdown",
   "id": "ea97817e-2e51-4b82-9374-96170e56a126",
   "metadata": {},
   "source": [
    "## Training"
   ]
  },
  {
   "cell_type": "code",
   "execution_count": 5,
   "id": "056c93c9-4914-4293-a066-b9af2a88b190",
   "metadata": {},
   "outputs": [],
   "source": [
    "df_training = pd.read_csv(\"C:/Users/karen/Documents/karenjblab/analise-churn/data/customer_churn_dataset-training-master.csv\")  # Aqui a gente preenche com o nome do .csv"
   ]
  },
  {
   "cell_type": "code",
   "execution_count": 6,
   "id": "a7a9b170-ce60-4145-9d66-6b76f468e56e",
   "metadata": {},
   "outputs": [
    {
     "data": {
      "text/html": [
       "<div>\n",
       "<style scoped>\n",
       "    .dataframe tbody tr th:only-of-type {\n",
       "        vertical-align: middle;\n",
       "    }\n",
       "\n",
       "    .dataframe tbody tr th {\n",
       "        vertical-align: top;\n",
       "    }\n",
       "\n",
       "    .dataframe thead th {\n",
       "        text-align: right;\n",
       "    }\n",
       "</style>\n",
       "<table border=\"1\" class=\"dataframe\">\n",
       "  <thead>\n",
       "    <tr style=\"text-align: right;\">\n",
       "      <th></th>\n",
       "      <th>CustomerID</th>\n",
       "      <th>Age</th>\n",
       "      <th>Gender</th>\n",
       "      <th>Tenure</th>\n",
       "      <th>Usage Frequency</th>\n",
       "      <th>Support Calls</th>\n",
       "      <th>Payment Delay</th>\n",
       "      <th>Subscription Type</th>\n",
       "      <th>Contract Length</th>\n",
       "      <th>Total Spend</th>\n",
       "      <th>Last Interaction</th>\n",
       "      <th>Churn</th>\n",
       "    </tr>\n",
       "  </thead>\n",
       "  <tbody>\n",
       "    <tr>\n",
       "      <th>0</th>\n",
       "      <td>2.0</td>\n",
       "      <td>30.0</td>\n",
       "      <td>Female</td>\n",
       "      <td>39.0</td>\n",
       "      <td>14.0</td>\n",
       "      <td>5.0</td>\n",
       "      <td>18.0</td>\n",
       "      <td>Standard</td>\n",
       "      <td>Annual</td>\n",
       "      <td>932.0</td>\n",
       "      <td>17.0</td>\n",
       "      <td>1.0</td>\n",
       "    </tr>\n",
       "    <tr>\n",
       "      <th>1</th>\n",
       "      <td>3.0</td>\n",
       "      <td>65.0</td>\n",
       "      <td>Female</td>\n",
       "      <td>49.0</td>\n",
       "      <td>1.0</td>\n",
       "      <td>10.0</td>\n",
       "      <td>8.0</td>\n",
       "      <td>Basic</td>\n",
       "      <td>Monthly</td>\n",
       "      <td>557.0</td>\n",
       "      <td>6.0</td>\n",
       "      <td>1.0</td>\n",
       "    </tr>\n",
       "    <tr>\n",
       "      <th>2</th>\n",
       "      <td>4.0</td>\n",
       "      <td>55.0</td>\n",
       "      <td>Female</td>\n",
       "      <td>14.0</td>\n",
       "      <td>4.0</td>\n",
       "      <td>6.0</td>\n",
       "      <td>18.0</td>\n",
       "      <td>Basic</td>\n",
       "      <td>Quarterly</td>\n",
       "      <td>185.0</td>\n",
       "      <td>3.0</td>\n",
       "      <td>1.0</td>\n",
       "    </tr>\n",
       "    <tr>\n",
       "      <th>3</th>\n",
       "      <td>5.0</td>\n",
       "      <td>58.0</td>\n",
       "      <td>Male</td>\n",
       "      <td>38.0</td>\n",
       "      <td>21.0</td>\n",
       "      <td>7.0</td>\n",
       "      <td>7.0</td>\n",
       "      <td>Standard</td>\n",
       "      <td>Monthly</td>\n",
       "      <td>396.0</td>\n",
       "      <td>29.0</td>\n",
       "      <td>1.0</td>\n",
       "    </tr>\n",
       "    <tr>\n",
       "      <th>4</th>\n",
       "      <td>6.0</td>\n",
       "      <td>23.0</td>\n",
       "      <td>Male</td>\n",
       "      <td>32.0</td>\n",
       "      <td>20.0</td>\n",
       "      <td>5.0</td>\n",
       "      <td>8.0</td>\n",
       "      <td>Basic</td>\n",
       "      <td>Monthly</td>\n",
       "      <td>617.0</td>\n",
       "      <td>20.0</td>\n",
       "      <td>1.0</td>\n",
       "    </tr>\n",
       "  </tbody>\n",
       "</table>\n",
       "</div>"
      ],
      "text/plain": [
       "   CustomerID   Age  Gender  Tenure  Usage Frequency  Support Calls  \\\n",
       "0         2.0  30.0  Female    39.0             14.0            5.0   \n",
       "1         3.0  65.0  Female    49.0              1.0           10.0   \n",
       "2         4.0  55.0  Female    14.0              4.0            6.0   \n",
       "3         5.0  58.0    Male    38.0             21.0            7.0   \n",
       "4         6.0  23.0    Male    32.0             20.0            5.0   \n",
       "\n",
       "   Payment Delay Subscription Type Contract Length  Total Spend  \\\n",
       "0           18.0          Standard          Annual        932.0   \n",
       "1            8.0             Basic         Monthly        557.0   \n",
       "2           18.0             Basic       Quarterly        185.0   \n",
       "3            7.0          Standard         Monthly        396.0   \n",
       "4            8.0             Basic         Monthly        617.0   \n",
       "\n",
       "   Last Interaction  Churn  \n",
       "0              17.0    1.0  \n",
       "1               6.0    1.0  \n",
       "2               3.0    1.0  \n",
       "3              29.0    1.0  \n",
       "4              20.0    1.0  "
      ]
     },
     "execution_count": 6,
     "metadata": {},
     "output_type": "execute_result"
    }
   ],
   "source": [
    "df_training.head()"
   ]
  },
  {
   "cell_type": "markdown",
   "id": "fafa5c9d-fcb7-4af8-a123-c3d073536b68",
   "metadata": {},
   "source": [
    "# Explorar os Dados"
   ]
  },
  {
   "cell_type": "markdown",
   "id": "f671a9d8-0be5-46a2-8f26-36686704e948",
   "metadata": {},
   "source": [
    "## Testing"
   ]
  },
  {
   "cell_type": "markdown",
   "id": "8d2988ad-b0e4-4b7b-ba70-584afa97d383",
   "metadata": {},
   "source": [
    "### Informações gerais do dataset"
   ]
  },
  {
   "cell_type": "code",
   "execution_count": 7,
   "id": "754b05ea-61f5-40c6-9c23-aedc3add63ca",
   "metadata": {},
   "outputs": [
    {
     "name": "stdout",
     "output_type": "stream",
     "text": [
      "<class 'pandas.core.frame.DataFrame'>\n",
      "RangeIndex: 64374 entries, 0 to 64373\n",
      "Data columns (total 12 columns):\n",
      " #   Column             Non-Null Count  Dtype \n",
      "---  ------             --------------  ----- \n",
      " 0   CustomerID         64374 non-null  int64 \n",
      " 1   Age                64374 non-null  int64 \n",
      " 2   Gender             64374 non-null  object\n",
      " 3   Tenure             64374 non-null  int64 \n",
      " 4   Usage Frequency    64374 non-null  int64 \n",
      " 5   Support Calls      64374 non-null  int64 \n",
      " 6   Payment Delay      64374 non-null  int64 \n",
      " 7   Subscription Type  64374 non-null  object\n",
      " 8   Contract Length    64374 non-null  object\n",
      " 9   Total Spend        64374 non-null  int64 \n",
      " 10  Last Interaction   64374 non-null  int64 \n",
      " 11  Churn              64374 non-null  int64 \n",
      "dtypes: int64(9), object(3)\n",
      "memory usage: 5.9+ MB\n",
      "None\n"
     ]
    }
   ],
   "source": [
    "print(df_testing.info())"
   ]
  },
  {
   "cell_type": "markdown",
   "id": "7b47a6cd-60d2-4952-aa1e-df89e9c03428",
   "metadata": {},
   "source": [
    "### Contagem dos valores da variável alvo"
   ]
  },
  {
   "cell_type": "code",
   "execution_count": 9,
   "id": "bf12b2ba-001d-4c16-9a29-92435b5cacdf",
   "metadata": {},
   "outputs": [
    {
     "ename": "NameError",
     "evalue": "name 'df' is not defined",
     "output_type": "error",
     "traceback": [
      "\u001b[1;31m---------------------------------------------------------------------------\u001b[0m",
      "\u001b[1;31mNameError\u001b[0m                                 Traceback (most recent call last)",
      "Cell \u001b[1;32mIn[9], line 1\u001b[0m\n\u001b[1;32m----> 1\u001b[0m \u001b[38;5;28mprint\u001b[39m(\u001b[43mdf\u001b[49m[\u001b[38;5;124m\"\u001b[39m\u001b[38;5;124mChurn\u001b[39m\u001b[38;5;124m\"\u001b[39m]\u001b[38;5;241m.\u001b[39mvalue_counts())\n",
      "\u001b[1;31mNameError\u001b[0m: name 'df' is not defined"
     ]
    }
   ],
   "source": [
    "print(df_testing[\"Churn\"].value_counts())"
   ]
  },
  {
   "cell_type": "markdown",
   "id": "6acea09e-96bd-426f-a409-69ea8cc34dfb",
   "metadata": {},
   "source": [
    "### Visualizando a distribuição de Churn"
   ]
  },
  {
   "cell_type": "code",
   "execution_count": null,
   "id": "2c921858-7936-4280-a2f3-9f6ceb8666f8",
   "metadata": {},
   "outputs": [],
   "source": [
    "sns.countplot(data=df_testing, x=\"Churn\"),\n",
    "plt.title(\"Distribuição de Churn\"),\n",
    "plt.show()"
   ]
  },
  {
   "cell_type": "markdown",
   "id": "74bdd995-de6a-4df5-98c6-dd99fe1b96b8",
   "metadata": {},
   "source": [
    "## Training"
   ]
  },
  {
   "cell_type": "code",
   "execution_count": null,
   "id": "75059a8a-3292-495f-a4f8-7fc6ee21ec6d",
   "metadata": {},
   "outputs": [],
   "source": [
    "### Informações gerais do dataset"
   ]
  },
  {
   "cell_type": "code",
   "execution_count": null,
   "id": "6fc0f835-b695-473f-a8f1-e83f1f736175",
   "metadata": {},
   "outputs": [],
   "source": [
    "print(df_testing.info())"
   ]
  },
  {
   "cell_type": "code",
   "execution_count": null,
   "id": "0fe9b319-185c-47f8-967e-28b5889493f7",
   "metadata": {},
   "outputs": [],
   "source": [
    "### Contagem dos valores da variável alvo"
   ]
  },
  {
   "cell_type": "code",
   "execution_count": null,
   "id": "3fa2a63e-8b41-4932-8748-20f886c15847",
   "metadata": {},
   "outputs": [],
   "source": [
    "print(df_testing[\"Churn\"].value_counts())"
   ]
  },
  {
   "cell_type": "code",
   "execution_count": null,
   "id": "bad7040e-c5f8-4508-8e03-fdcc36eb3398",
   "metadata": {},
   "outputs": [],
   "source": [
    "### Visualizando a distribuição de Churn"
   ]
  },
  {
   "cell_type": "code",
   "execution_count": null,
   "id": "9c08039c-4f79-4251-b388-650650af4302",
   "metadata": {},
   "outputs": [],
   "source": []
  },
  {
   "cell_type": "code",
   "execution_count": null,
   "id": "0b0a79c9-7f6d-4fb7-b5b0-c0830ef2d93f",
   "metadata": {},
   "outputs": [],
   "source": []
  },
  {
   "cell_type": "markdown",
   "id": "223fc634-b346-4520-aba6-08b56768a5cd",
   "metadata": {},
   "source": [
    "# Preparação dos Dados"
   ]
  },
  {
   "cell_type": "markdown",
   "id": "eb9ce4d1-fa6e-44fd-a8f2-f2a27ea5ee5f",
   "metadata": {},
   "source": [
    "## Separando variáveis preditoras e alvo"
   ]
  },
  {
   "cell_type": "code",
   "execution_count": null,
   "id": "cc4b4546-21b4-4224-9286-610614048740",
   "metadata": {},
   "outputs": [],
   "source": [
    "X = df.drop(columns=[\"Churn\"])\n",
    "y = df[\"Churn\"]"
   ]
  },
  {
   "cell_type": "code",
   "execution_count": null,
   "id": "7177d870-7806-483f-8c25-5d4cec363616",
   "metadata": {},
   "outputs": [],
   "source": [
    "X"
   ]
  },
  {
   "cell_type": "code",
   "execution_count": null,
   "id": "e984b3a3-ef1e-4f38-a0fd-864ae616c006",
   "metadata": {},
   "outputs": [],
   "source": [
    "gender = pd.get_dummies(X['Gender'], drop_first=True)"
   ]
  },
  {
   "cell_type": "code",
   "execution_count": null,
   "id": "a8234518-4f85-4e96-8ef5-ab9c99686f62",
   "metadata": {},
   "outputs": [],
   "source": [
    "gender"
   ]
  },
  {
   "cell_type": "code",
   "execution_count": null,
   "id": "cf8e9df2-d77b-462c-969a-559677a56908",
   "metadata": {},
   "outputs": [],
   "source": [
    "X['Male'] = gender['Male']"
   ]
  },
  {
   "cell_type": "code",
   "execution_count": null,
   "id": "4b39be7d-5f05-49a2-a7c8-53d9ec05d17c",
   "metadata": {},
   "outputs": [],
   "source": [
    "X"
   ]
  },
  {
   "cell_type": "code",
   "execution_count": null,
   "id": "901a170d-9656-44e7-8798-331bf4063716",
   "metadata": {},
   "outputs": [],
   "source": [
    "X.drop(columns=['Gender'], inplace=True)"
   ]
  },
  {
   "cell_type": "code",
   "execution_count": null,
   "id": "de8d830e-08b9-4243-a7f6-40b1b7f0df8c",
   "metadata": {},
   "outputs": [],
   "source": [
    "X"
   ]
  },
  {
   "cell_type": "code",
   "execution_count": null,
   "id": "6290ed05-fbdc-4f03-b718-43c07d76107e",
   "metadata": {},
   "outputs": [],
   "source": [
    "oe = OrdinalEncoder(categories=[['Basic', 'Standard', 'Premium']])"
   ]
  },
  {
   "cell_type": "code",
   "execution_count": null,
   "id": "5871d193-0dd3-4f5f-a837-8255800f75fe",
   "metadata": {},
   "outputs": [],
   "source": [
    "oe"
   ]
  },
  {
   "cell_type": "code",
   "execution_count": null,
   "id": "ec61dab8-f061-4187-a892-6d22ae71ec43",
   "metadata": {},
   "outputs": [],
   "source": [
    "X[['Subscription Type']] = oe.fit_transform(X[['Subscription Type']]).astype(int)"
   ]
  },
  {
   "cell_type": "code",
   "execution_count": null,
   "id": "501586fb-055d-40f2-8689-cb2c9ef9d820",
   "metadata": {},
   "outputs": [],
   "source": [
    "X"
   ]
  },
  {
   "cell_type": "code",
   "execution_count": null,
   "id": "cd91b2fd-0da5-4009-8149-6efc23f107f8",
   "metadata": {},
   "outputs": [],
   "source": [
    "oe = OrdinalEncoder(categories=[['Monthly', 'Quarterly', 'Annual']])"
   ]
  },
  {
   "cell_type": "code",
   "execution_count": null,
   "id": "6e72454c-6636-4d34-8a73-bca7b953e889",
   "metadata": {},
   "outputs": [],
   "source": [
    "X[['Contract Length']] = oe.fit_transform(X[['Contract Length']]).astype(int)"
   ]
  },
  {
   "cell_type": "code",
   "execution_count": null,
   "id": "73d27598-7037-483b-a36b-0516ce29eacb",
   "metadata": {},
   "outputs": [],
   "source": [
    "X"
   ]
  },
  {
   "cell_type": "markdown",
   "id": "bea1739d-f364-4a64-8f29-c102a9179b3f",
   "metadata": {},
   "source": [
    "## Dividindo os dados (80% treino, 20% teste)"
   ]
  },
  {
   "cell_type": "code",
   "execution_count": null,
   "id": "c9507dc4-1ca9-4680-b7a3-4294cccbe01a",
   "metadata": {},
   "outputs": [],
   "source": [
    "X_train, X_test, y_train, y_test = train_test_split(X, y, test_size=0.2, random_state=42)"
   ]
  },
  {
   "cell_type": "markdown",
   "id": "ef1d0772-04de-4276-bd5e-f513565492b2",
   "metadata": {},
   "source": [
    "Uso StandardScaler para padronizar (ou normalizar) os dados de treinamento e teste. A padronização é uma técnica comum para preparar os dados antes de alimentar um modelo de Machine Learning. Ela visa garantir que todas as features tenham a mesma escala e distribuição."
   ]
  },
  {
   "cell_type": "markdown",
   "id": "417a95a2-d24c-481d-b262-70e0ed010549",
   "metadata": {},
   "source": [
    "## Padronizando os dados"
   ]
  },
  {
   "cell_type": "markdown",
   "id": "02964f48-43ad-4969-bbe1-946a533ca098",
   "metadata": {},
   "source": [
    "O StandardScaler é uma técnica de normalização que transforma os dados para uma distribuição com média 0 e desvio padrão 1. Isso é útil porque muitos modelos de Machine Learning, especialmente aqueles baseados em distâncias (como KNN ou SVM), se saem melhor quando os dados estão padronizados."
   ]
  },
  {
   "cell_type": "code",
   "execution_count": null,
   "id": "ec7a2f96-27c5-498c-8e8e-a8b7420441d0",
   "metadata": {},
   "outputs": [],
   "source": [
    "scaler = StandardScaler()"
   ]
  },
  {
   "cell_type": "markdown",
   "id": "214ebcee-0deb-44e3-a510-a3623051d823",
   "metadata": {},
   "source": [
    "Estou aplicando a padronização aos dados de treinamento X_train. O método fit_transform() faz duas coisas:\n",
    "\n",
    "```fit():``` Calcula a média e o desvio padrão de cada feature (coluna) dos dados de treinamento.\n",
    "\n",
    "```transform():``` Usa essas informações de média e desvio padrão para transformar os dados, fazendo com que cada feature tenha média 0 e desvio padrão 1."
   ]
  },
  {
   "cell_type": "code",
   "execution_count": null,
   "id": "c1662fca-b0e4-4743-8142-72836b8f3154",
   "metadata": {},
   "outputs": [],
   "source": [
    "X_train = scaler.fit_transform(X_train)"
   ]
  },
  {
   "cell_type": "markdown",
   "id": "9fd5561c-50e6-42a9-ab14-841ff7fe8c80",
   "metadata": {},
   "source": [
    "Não uso ```fit_transform()``` aqui, porque quero que os dados de teste sejam transformados da mesma maneira que os dados de treinamento, ou seja, usando a mesma média e desvio padrão calculados no fit() de X_train. Isso evita que o modelo tenha \"informações privilegiadas\" dos dados de teste, o que poderia viciar o modelo.\n",
    "\n"
   ]
  },
  {
   "cell_type": "code",
   "execution_count": null,
   "id": "3724a768-3fd5-4d3d-b6dc-7c7f05a2fbe0",
   "metadata": {},
   "outputs": [],
   "source": [
    "X_test = scaler.transform(X_test)"
   ]
  },
  {
   "cell_type": "markdown",
   "id": "5b0cae30-48df-42c9-973f-db92b6021fc5",
   "metadata": {},
   "source": [
    "# Treinando o Modelo"
   ]
  },
  {
   "cell_type": "markdown",
   "id": "4d0f72a6-bf2b-4e1f-bfdf-5b7d3d5f2907",
   "metadata": {},
   "source": [
    "## Descobrir qual é a quantidade ideal de árvores para criar o modelo com o Grid Search"
   ]
  },
  {
   "cell_type": "markdown",
   "id": "c3a29236-54c9-4500-97b5-d5dca0023c3e",
   "metadata": {},
   "source": [
    "Utilizar esse código caso os parâmetros comuns estiverem resultados em uma acurácia de 1.00, o que pode significar um overfitting dos dados (a a máquina entende além do que deveria e acaba gerando enganos, como por exemplo, prever comportamentos mais parecidos com o que a maioria faz do que a previsão real do que pode ocorrer."
   ]
  },
  {
   "cell_type": "code",
   "execution_count": null,
   "id": "504b7c83-5183-401b-8d3f-90081f87a1f4",
   "metadata": {},
   "outputs": [],
   "source": [
    "# from sklearn.ensemble import RandomForestClassifier\n",
    "# from sklearn.model_selection import GridSearchCV\n",
    "\n",
    "# # Definir o modelo\n",
    "# rf = RandomForestClassifier(random_state=42)\n",
    "\n",
    "# # Parâmetros para o GridSearch\n",
    "# param_grid = {\n",
    "#     'n_estimators': [100, 200, 300, 500, 1000],  # Testando diferentes números de árvores\n",
    "#     'max_depth': [None, 10, 20],  # Ajuste para a profundidade das árvores\n",
    "#     'min_samples_split': [2, 5, 10],  # Número mínimo de amostras por divisão\n",
    "#     'min_samples_leaf': [1, 2, 4]  # Número mínimo de amostras por folha\n",
    "# }\n",
    "\n",
    "# # Definindo o GridSearchCV\n",
    "# grid_search = GridSearchCV(rf, param_grid, cv=3, n_jobs=-1)\n",
    "# grid_search.fit(X_train, y_train)\n",
    "\n",
    "# # Melhor número de árvores encontrado\n",
    "# print(\"Melhor número de árvores:\", grid_search.best_params_['n_estimators'])"
   ]
  },
  {
   "cell_type": "markdown",
   "id": "97b7aa8e-1bb4-4606-8b9a-5b04486cf7c6",
   "metadata": {},
   "source": [
    "## Criando e treinando um modelo Random Forest"
   ]
  },
  {
   "cell_type": "markdown",
   "id": "5142a8aa-bb04-4d83-a173-7c2a73409873",
   "metadata": {},
   "source": [
    "Criei um objeto do modelo ```RandomForestClassifier()``` e vou treinar ele com os dados de treinamento X_train e as labels correspondentes y_train."
   ]
  },
  {
   "cell_type": "code",
   "execution_count": null,
   "id": "c8d063c4-9169-4736-ad82-c2ddb4a95af1",
   "metadata": {},
   "outputs": [],
   "source": [
    "model = RandomForestClassifier(n_estimators=500\n",
    "                               , random_state=42\n",
    "                               , max_depth=8\n",
    "                               , class_weight={0: 1, 1: 0.9}  # Dando um peso menor para churn para reduzir FP\n",
    "                               , min_samples_split = 10\n",
    "                               , min_samples_leaf=15\n",
    "                               , max_features='sqrt'# Reduzindo o número de features consideradas por nó\n",
    "                              )"
   ]
  },
  {
   "cell_type": "markdown",
   "id": "0dc0e02c-373f-40cd-b7a2-d2c711342a02",
   "metadata": {},
   "source": [
    "O método ```fit()``` é onde o modelo aprende a relação entre as features (dados) e a variável alvo (y_train)."
   ]
  },
  {
   "cell_type": "code",
   "execution_count": null,
   "id": "7712df4b-706a-4d16-9301-94e3d5e9b164",
   "metadata": {},
   "outputs": [],
   "source": [
    "model.fit(X_train, y_train)"
   ]
  },
  {
   "cell_type": "code",
   "execution_count": null,
   "id": "e46cbf7b-288a-41b7-b558-963d11dce104",
   "metadata": {},
   "outputs": [],
   "source": [
    "y_pred = model.predict(X_test)"
   ]
  },
  {
   "cell_type": "code",
   "execution_count": null,
   "id": "a3c8b4dc-838d-4222-8f55-34a45590e1c8",
   "metadata": {},
   "outputs": [],
   "source": [
    "y_probs = model.predict_proba(X_test)[:, 1]  # Pegando probabilidade de churn"
   ]
  },
  {
   "cell_type": "code",
   "execution_count": null,
   "id": "8bb920c0-c0f3-4ba7-b02c-c44b3393a99a",
   "metadata": {},
   "outputs": [],
   "source": [
    "y_pred_adjusted = (y_probs > 0.70).astype(int)  # Subindo threshold para 0.55"
   ]
  },
  {
   "cell_type": "markdown",
   "id": "e9f75cad-b364-415a-a461-e5ee00bf75d9",
   "metadata": {},
   "source": [
    "# Avaliação do Modelo"
   ]
  },
  {
   "cell_type": "markdown",
   "id": "9097d5e4-07a2-400c-9651-dbf01404f783",
   "metadata": {},
   "source": [
    "Depois de treinar o modelo, quero saber o quanto ele é bom em fazer previsões. \n",
    "\n",
    "Uma das formas de avaliar a performance do modelo é usar a acurácia."
   ]
  },
  {
   "cell_type": "code",
   "execution_count": null,
   "id": "64d13fbe-b58e-4b68-9683-dbb241d0e9f4",
   "metadata": {},
   "outputs": [],
   "source": [
    "accuracy = accuracy_score(y_test, y_pred)\n",
    "print(f\"Acurácia do Modelo: {accuracy:.2f}\")"
   ]
  },
  {
   "cell_type": "markdown",
   "id": "26e8d84c-f4f1-416b-9e8f-42cbea9596d7",
   "metadata": {},
   "source": [
    "## Relatório de Classificação"
   ]
  },
  {
   "cell_type": "code",
   "execution_count": null,
   "id": "a1d33832-52b0-4ec9-9e24-0ffedcdd1e80",
   "metadata": {},
   "outputs": [],
   "source": [
    "print(\"\\nRelatório de Classificação:\")\n",
    "print(classification_report(y_test, y_pred))"
   ]
  },
  {
   "cell_type": "markdown",
   "id": "d80b3196-b69b-4409-b8cb-f5c11418deee",
   "metadata": {},
   "source": [
    "## Matriz de Confusão"
   ]
  },
  {
   "cell_type": "markdown",
   "id": "18d4797a-0ed8-466a-a5a6-d1a0af4fc151",
   "metadata": {},
   "source": [
    "Aqui estamos considerando o padrão de 0.5 de nível de confiança"
   ]
  },
  {
   "cell_type": "code",
   "execution_count": null,
   "id": "80a47686-869e-4fa5-a89a-629c31339fcb",
   "metadata": {},
   "outputs": [],
   "source": [
    "plt.figure(figsize=(5,4))\n",
    "sns.heatmap(confusion_matrix(y_test, y_pred), annot=True, fmt=\"d\", cmap=\"Blues\")\n",
    "plt.xlabel(\"Previsto\")\n",
    "plt.ylabel(\"Real\")\n",
    "plt.title(\"Matriz de Confusão - NC 0.50\")\n",
    "plt.show()"
   ]
  },
  {
   "cell_type": "markdown",
   "id": "e9e5a78a-3b36-42e2-a7b1-b780fdc954f7",
   "metadata": {},
   "source": [
    "Aqui aumentamos o nível de confiança para 0.55"
   ]
  },
  {
   "cell_type": "code",
   "execution_count": null,
   "id": "4b20f5af-685b-415d-88f4-87d9e35940e6",
   "metadata": {},
   "outputs": [],
   "source": [
    "plt.figure(figsize=(5,4))\n",
    "sns.heatmap(confusion_matrix(y_test, y_pred_adjusted), annot=True, fmt=\"d\", cmap=\"Blues\")\n",
    "plt.xlabel(\"Previsto\")\n",
    "plt.ylabel(\"Real\")\n",
    "plt.title(\"Matriz de Confusão - NC 0.55\")\n",
    "plt.show()"
   ]
  },
  {
   "cell_type": "code",
   "execution_count": null,
   "id": "0b677265-0b7f-4e95-97b9-4d04c1d761f7",
   "metadata": {},
   "outputs": [],
   "source": [
    "# from sklearn.metrics import confusion_matrix\n",
    "# print(confusion_matrix(y_test, y_pred_adjusted))"
   ]
  },
  {
   "cell_type": "markdown",
   "id": "cbe58f74-da33-4c64-97aa-73d78a05004b",
   "metadata": {},
   "source": [
    "# Resumo do Problema, Análise do Modelo e Interpretação dos Resultados"
   ]
  },
  {
   "cell_type": "markdown",
   "id": "7c7b70d6-bb92-4200-98ca-4ce49a376534",
   "metadata": {},
   "source": [
    "Iniciamos com um problema crítico: um modelo com acurácia de 1.00, o que indicava overfitting. Como um modelo real nunca é perfeito, ajustamos diversos hiperparâmetros, como número de árvores, profundidade, min_samples_split e min_samples_leaf, buscando um melhor equilíbrio entre precisão e generalização.\n",
    "\n",
    "Com esses ajustes, a acurácia caiu para um nível mais realista, e a matriz de confusão demonstrou resultados mais consistentes, especialmente nos thresholds 0.5 e 0.55, onde a taxa de FP e FN se manteve dentro de um limite estatisticamente aceitável.\n",
    "\n",
    "Dessa forma, a melhor solução para o negócio no momento é atuar sobre os 5900 casos previstos como churn para evitar perdas de clientes, garantindo que estratégias preventivas sejam aplicadas de forma eficiente."
   ]
  }
 ],
 "metadata": {
  "kernelspec": {
   "display_name": "Python 3 (ipykernel)",
   "language": "python",
   "name": "python3"
  },
  "language_info": {
   "codemirror_mode": {
    "name": "ipython",
    "version": 3
   },
   "file_extension": ".py",
   "mimetype": "text/x-python",
   "name": "python",
   "nbconvert_exporter": "python",
   "pygments_lexer": "ipython3",
   "version": "3.13.2"
  }
 },
 "nbformat": 4,
 "nbformat_minor": 5
}
